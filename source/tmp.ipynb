{
 "metadata": {
  "language_info": {
   "codemirror_mode": {
    "name": "ipython",
    "version": 3
   },
   "file_extension": ".py",
   "mimetype": "text/x-python",
   "name": "python",
   "nbconvert_exporter": "python",
   "pygments_lexer": "ipython3",
   "version": "3.8.5-final"
  },
  "orig_nbformat": 2,
  "kernelspec": {
   "name": "Python 3.8.5 64-bit ('etf_kor': conda)",
   "display_name": "Python 3.8.5 64-bit ('etf_kor': conda)",
   "metadata": {
    "interpreter": {
     "hash": "6e8f128edaef944546faf926c7a2ddb9ab59c61ebb37059407c908d0a7f3fbba"
    }
   }
  }
 },
 "nbformat": 4,
 "nbformat_minor": 2,
 "cells": [
  {
   "cell_type": "code",
   "execution_count": 1,
   "metadata": {},
   "outputs": [
    {
     "output_type": "stream",
     "name": "stdout",
     "text": [
      "...데이터베이스 연결 완료\n"
     ]
    }
   ],
   "source": [
    "import pandas as pd\n",
    "from datetime import datetime\n",
    "import time\n",
    "from tqdm.notebook import tqdm\n",
    "\n",
    "import FinanceDataReader as fdr\n",
    "from pykrx import stock\n",
    "import pymysql\n",
    "from sqlalchemy import create_engine\n",
    "import requests\n",
    "from bs4 import BeautifulSoup\n",
    "\n",
    "HOSTNAME = \"localhost\"\n",
    "PORT     = 3306\n",
    "USERNAME = \"lovedh\"\n",
    "PASSWORD = \"123\"\n",
    "DATABASE = \"etfkor\"\n",
    "CHARSET1  = \"utf8\"     # MySQL에서 사용할 캐릭터셋 이름\n",
    "CHARSET2  = \"utf-8\"    # Python에서 사용할 캐릭터셋 이름\n",
    "\n",
    "# 데이터베이스 포맷 설정\n",
    "con_str_fmt = \"mysql+mysqldb://{0}:{1}@{2}:{3}/{4}?charset={5}\"\n",
    "con_str = con_str_fmt.format(USERNAME, PASSWORD, HOSTNAME, PORT, DATABASE, CHARSET1)\n",
    "pymysql.install_as_MySQLdb()\n",
    "\n",
    "# mysql과 연결\n",
    "import MySQLdb\n",
    "engine = create_engine(con_str, encoding=CHARSET2)\n",
    "conn = engine.connect()\n",
    "print('...데이터베이스 연결 완료')\n",
    "\n",
    "\n",
    "# 한국 etf 리스트 저장\n",
    "etf_list = fdr.EtfListing('KR')"
   ]
  },
  {
   "cell_type": "code",
   "execution_count": 3,
   "metadata": {},
   "outputs": [
    {
     "output_type": "execute_result",
     "data": {
      "text/plain": [
       "     Symbol                Name\n",
       "0    069500           KODEX 200\n",
       "1    252670    KODEX 200선물인버스2X\n",
       "2    102110           TIGER 200\n",
       "3    153130          KODEX 단기채권\n",
       "4    122630          KODEX 레버리지\n",
       "..      ...                 ...\n",
       "448  334700  KBSTAR 팔라듐선물인버스(H)\n",
       "449  285010       KBSTAR 200중공업\n",
       "450  284980        KBSTAR 200금융\n",
       "451  287310     KBSTAR 200경기소비재\n",
       "452  287300        KBSTAR 200건설\n",
       "\n",
       "[453 rows x 2 columns]"
      ],
      "text/html": "<div>\n<style scoped>\n    .dataframe tbody tr th:only-of-type {\n        vertical-align: middle;\n    }\n\n    .dataframe tbody tr th {\n        vertical-align: top;\n    }\n\n    .dataframe thead th {\n        text-align: right;\n    }\n</style>\n<table border=\"1\" class=\"dataframe\">\n  <thead>\n    <tr style=\"text-align: right;\">\n      <th></th>\n      <th>Symbol</th>\n      <th>Name</th>\n    </tr>\n  </thead>\n  <tbody>\n    <tr>\n      <th>0</th>\n      <td>069500</td>\n      <td>KODEX 200</td>\n    </tr>\n    <tr>\n      <th>1</th>\n      <td>252670</td>\n      <td>KODEX 200선물인버스2X</td>\n    </tr>\n    <tr>\n      <th>2</th>\n      <td>102110</td>\n      <td>TIGER 200</td>\n    </tr>\n    <tr>\n      <th>3</th>\n      <td>153130</td>\n      <td>KODEX 단기채권</td>\n    </tr>\n    <tr>\n      <th>4</th>\n      <td>122630</td>\n      <td>KODEX 레버리지</td>\n    </tr>\n    <tr>\n      <th>...</th>\n      <td>...</td>\n      <td>...</td>\n    </tr>\n    <tr>\n      <th>448</th>\n      <td>334700</td>\n      <td>KBSTAR 팔라듐선물인버스(H)</td>\n    </tr>\n    <tr>\n      <th>449</th>\n      <td>285010</td>\n      <td>KBSTAR 200중공업</td>\n    </tr>\n    <tr>\n      <th>450</th>\n      <td>284980</td>\n      <td>KBSTAR 200금융</td>\n    </tr>\n    <tr>\n      <th>451</th>\n      <td>287310</td>\n      <td>KBSTAR 200경기소비재</td>\n    </tr>\n    <tr>\n      <th>452</th>\n      <td>287300</td>\n      <td>KBSTAR 200건설</td>\n    </tr>\n  </tbody>\n</table>\n<p>453 rows × 2 columns</p>\n</div>"
     },
     "metadata": {},
     "execution_count": 3
    }
   ],
   "source": [
    "etf_list"
   ]
  },
  {
   "cell_type": "code",
   "execution_count": 5,
   "metadata": {},
   "outputs": [
    {
     "output_type": "execute_result",
     "data": {
      "text/plain": [
       "    Symbol                 Name\n",
       "66  364960  TIGER KRX BBIG K-뉴딜"
      ],
      "text/html": "<div>\n<style scoped>\n    .dataframe tbody tr th:only-of-type {\n        vertical-align: middle;\n    }\n\n    .dataframe tbody tr th {\n        vertical-align: top;\n    }\n\n    .dataframe thead th {\n        text-align: right;\n    }\n</style>\n<table border=\"1\" class=\"dataframe\">\n  <thead>\n    <tr style=\"text-align: right;\">\n      <th></th>\n      <th>Symbol</th>\n      <th>Name</th>\n    </tr>\n  </thead>\n  <tbody>\n    <tr>\n      <th>66</th>\n      <td>364960</td>\n      <td>TIGER KRX BBIG K-뉴딜</td>\n    </tr>\n  </tbody>\n</table>\n</div>"
     },
     "metadata": {},
     "execution_count": 5
    }
   ],
   "source": [
    "etf_list[etf_list['Symbol']=='364960']"
   ]
  },
  {
   "cell_type": "code",
   "execution_count": 55,
   "metadata": {},
   "outputs": [
    {
     "output_type": "stream",
     "name": "stdout",
     "text": [
      "None\n0.150%\n151750000\n국내주식형, 대표지수\n코스피 200\n2002년 10월 14일\n"
     ]
    }
   ],
   "source": [
    "\n",
    "#for symbol in etf_list['Symbol']: \n",
    "url = \"https://navercomp.wisereport.co.kr/v2/ETF/index.aspx?cmp_cd=069500\"\n",
    "result = requests.get(url)\n",
    "bs_obj = BeautifulSoup(result.content, \"html.parser\")\n",
    "\n",
    "end_price = bs_obj.find('th',{'class':'txt'})\n",
    "print(end_price)\n",
    "\n",
    "# #상장주식수\n",
    "# no_today = bs_obj.find(\"div\", {\"class\": \"first\"}) # \n",
    "# num_listed_shares = int(no_today.find_all(\"em\")[1].text.replace(',',''))\n",
    "\n",
    "# # 기초지수 부분\n",
    "# base_info = bs_obj.find(\"table\",{\"class\":\"tbl_type1\"})\n",
    "# base_sub_info = base_info.find_all('span')\n",
    "# base_index = base_sub_info[0].text # 기초지수\n",
    "# type = base_sub_info[1].text #유형\n",
    "# listed_day = base_info.find_all('td')[-1].text #상장일\n",
    "\n",
    "# commission = bs_obj.find(\"table\",{\"summary\":\"펀드보수 정보\"}).find('em').text # 수수료\n",
    "\n",
    "# holdings = \n",
    "\n",
    "print(commission)\n",
    "print(num_listed_shares)\n",
    "print(type)\n",
    "print(base_index)\n",
    "print(listed_day)"
   ]
  },
  {
   "cell_type": "code",
   "execution_count": null,
   "metadata": {},
   "outputs": [],
   "source": [
    "<iframe id=\"coinfo_cp\" title=\"종목분석 영역\" src=\"https://navercomp.wisereport.co.kr/v2/ETF/index.aspx?cmp_cd=069500\" width=\"680\" height=\"2500\" marginheight=\"0\" bottommargin=\"0\" topmargin=\"0\" scrolling=\"no\" frameborder=\"0\" style=\"height: 2086px;\"></iframe>"
   ]
  }
 ]
}